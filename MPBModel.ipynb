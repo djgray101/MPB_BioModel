{
 "cells": [
  {
   "cell_type": "markdown",
   "metadata": {},
   "source": [
    "# To Do List - Finish by Sunday. \n",
    "\n",
    "## 1. Finish writing the constraints, variables, and parameters with domains. \n",
    "## 2. Continue trying to figure out how to work with indexed tuple sets\n",
    "## 3. Begin entering data into a .dat file\n",
    "## 4. Figure out if we can linearize a quadratic & linearization for logic constraints. "
   ]
  },
  {
   "cell_type": "code",
   "execution_count": 25,
   "metadata": {},
   "outputs": [],
   "source": [
    "# Import Pyomo Modules\n",
    "\n",
    "from __future__ import division\n",
    "from pyomo.environ import *\n",
    "import random\n",
    "import numpy as np\n",
    "\n"
   ]
  },
  {
   "cell_type": "code",
   "execution_count": 26,
   "metadata": {},
   "outputs": [],
   "source": [
    "# Define an empty AbstractModel() object\n",
    "model = AbstractModel()"
   ]
  },
  {
   "cell_type": "code",
   "execution_count": 27,
   "metadata": {},
   "outputs": [
    {
     "name": "stdout",
     "output_type": "stream",
     "text": [
      "0\n"
     ]
    }
   ],
   "source": [
    "# Define the index sets for the grid, time horizon, and age class.\n",
    "\n",
    "model.Iset = RangeSet(3) #e.g i = {1, 2, 3}\n",
    "model.Jset = RangeSet(3)\n",
    "model.Tset = RangeSet(7)\n",
    "model.Kset = RangeSet(50)"
   ]
  },
  {
   "cell_type": "code",
   "execution_count": 28,
   "metadata": {},
   "outputs": [],
   "source": [
    "# Defining all model parameters. \n",
    "# ALL PARAMETERS WILL MOST LIKELY NEED TO BE INDEXED AND SPECIFY A DEFAULT VALUE?\n",
    "\n",
    "model.juvsurv = Param(within=NonNegativeIntegers)   # Juvenille Tree Survivorship Probability\n",
    "model.juvdeath = Param()  # Juvenille Tree Mortality Probability (model.juvdeath = 1 - model.juvsurv)\n",
    "model.inventory = Param() # Tree inventory that is constant for each cell - acts as carrying capacity\n",
    "model.beta = Param()      # Failure Rate of Infestation\n",
    "model.R = Param()         # Growth rate of MPB per effective tree --> 1.8 per year, not indexed by time yet. \n",
    "model.gamma = Param()     # Inter-Resource Competition Parameter\n",
    "model.lamb = Param()      # Effectiveness of Level 1 Control\n",
    "model.rho = Param()       # Effectivneness of Level 2 Control\n",
    "model.disper = Param()    # Proportion of dispersal \n",
    "model.alpha = Param()     # Response Function Alpha \n",
    "\n",
    "\n",
    "model.c0 = Param()        # Fitting parameter for dispersal\n",
    "model.c1 = Param()        # Fitting parameter for dispersal"
   ]
  },
  {
   "cell_type": "markdown",
   "metadata": {},
   "source": [
    "# Tester Cell"
   ]
  },
  {
   "cell_type": "code",
   "execution_count": 29,
   "metadata": {
    "scrolled": true
   },
   "outputs": [],
   "source": [
    "model.A = RangeSet(7)"
   ]
  },
  {
   "cell_type": "markdown",
   "metadata": {},
   "source": [
    "# Code Mapping to Model Variables\n",
    "\n",
    "### Note: Maybe put this in a separate file - not showing up how I would like it to in Markdown\n",
    "\n",
    "### $$ model.juvenille -->  j_{k,t}^{(i,j)}$$ \n",
    "\n",
    "### $$ model.juvenilleTotal -->  J_{t}^{(i,j)} = \\sum_{k=1}^{NJ}j_{k,t}^{(i,j)}, k = 1,2,...,NJ-1 $$\n",
    "\n",
    "### $$ model.redsnag --> I_{t-1} $$\n",
    "\n",
    "### $$ model.greysnag --> I_{t-2} $$"
   ]
  },
  {
   "cell_type": "markdown",
   "metadata": {},
   "source": [
    "# Coding All Model Variables:"
   ]
  },
  {
   "cell_type": "code",
   "execution_count": null,
   "metadata": {
    "scrolled": true
   },
   "outputs": [],
   "source": [
    "model.juvenille = Var(model.Iset, model.Jset, model.Tset, model.Kset,          \n",
    "                      within=NonNegativeReals, initialize='''FILL IN LATER''')\n",
    "\n",
    "def juv_total(model, i, j, t, k):\n",
    "    return sum(model.juvenille[k] for k in range(1,50))\n",
    "model.juvenilleTotal = Var(model.Iset, model.Jset, model.Tset, model.Kset,\n",
    "                           within=NonNegativeReals, initialize=juv_total)\n",
    "\n",
    "model.susceptible = Var(model.Iset, model.Jset, model.Tset,\n",
    "                       within=NonNegativeReals, initialize = '''FILL IN LATER''')\n",
    "\n",
    "model.inf_b4travel = Var(model.Iset, model.Jset, model.Tset,\n",
    "                    within=NonNegativeReals, initialize = '''FILL IN LATER''')\n",
    "\n",
    "model.inf_posttravel = Var(model.Iset, model.Jset, model.Tset,\n",
    "                    within=NonNegativeReals, initialize = '''FILL IN LATER''')\n",
    "\n",
    "model.inf_treated = Var(model.Iset, model.Jset, model.Tset,\n",
    "                    within=NonNegativeReals, initialize = '''FILL IN LATER''')\n",
    "\n",
    "model.redsnag = Var(model.Iset, model.Jset, model.Tset, model.Kset,\n",
    "                   within=NonNegativeReals, initialize = '''FILL IN LATER''')\n",
    "\n",
    "model.greysnag = Var(model.Iset, model.Jset, model.Tset, model.Kset,\n",
    "                    within=NonNegativeReals, initialize = '''FILL IN LATER''')\n",
    "\n",
    "model.treeinventory = Var(model.Iset, model.Jset, model.Tset,\n",
    "                        within=NonNegativeReals, initialize = '''FILL IN LATER w/ expr?''')\n",
    "\n",
    "model.ownwweight = Var(model.Iset, model.Jset, model.Tset,\n",
    "                     within=NonNegativeReals, initialize = '''FILL IN LATER w/ Expression''')\n",
    "\n",
    "model.outweight = Var(model.Iset, model.Jset, model.Tset,\n",
    "                     within=NonNegativeReals, initialzie = ''' FILL IN LATER w/ Expression ''')\n",
    "\n",
    "model.levelone =  Var(model.Iset, model.Jset, model.Tset,\n",
    "                     within=NonNegativeReals, initialzie = ''' FILL IN LATER w/ Expression ''')\n",
    "\n",
    "model.leveltwo =  Var(model.Iset, model.Jset, model.Tset,\n",
    "                     within=NonNegativeReals, initialzie = ''' FILL IN LATER w/ Expression ''')"
   ]
  },
  {
   "cell_type": "markdown",
   "metadata": {},
   "source": [
    "# Coding Constraints"
   ]
  },
  {
   "cell_type": "markdown",
   "metadata": {},
   "source": [
    "## Juvenille Constraints"
   ]
  },
  {
   "cell_type": "code",
   "execution_count": null,
   "metadata": {},
   "outputs": [],
   "source": [
    "# Constraint 1: juvenilles that advance to the next age class (eq. 1)\n",
    "def juv_advance(model, i, j, t, k):\n",
    "    return model.juvenille[i,j,t+1,k+1] == model.juvenille[i,j,t,k]*model.juvsurv\n",
    "\n",
    "# Constraint 2: total number of juvenilles in all age classes on cell (i,j)\n",
    "def juv_total_sum(model, i, j, t, k):\n",
    "    return \"\"\" This constraint is actually a variable declaration \"\"\"\n",
    "\n",
    "# Constraint 3: recruitment of seedlings to the first juvenille age class. \n",
    "def juv_recruit(model, i, j, t, k): \"\"\" Not sure how you would specify the I_t-2 var, will come back to this \"\"\"\n",
    "    return model.juvenille[i,j,t,1] == model.juvdeath*model.juvenilleTotal + model.greysnag"
   ]
  },
  {
   "cell_type": "markdown",
   "metadata": {},
   "source": [
    "## Susceptible Constraints\n"
   ]
  },
  {
   "cell_type": "code",
   "execution_count": null,
   "metadata": {},
   "outputs": [],
   "source": [
    "# Constraint 5: Susceptible recruitment \n",
    "def susceptible_advance(model, i, j, t, k):\n",
    "    return model.susceptible[i,j,t+1] == model.susceptible[i,j,t] - model.infected[i,j,t] \\\\\n",
    "            + model.juvsurv*model.juvenille[i,j,t,k==50]"
   ]
  },
  {
   "cell_type": "markdown",
   "metadata": {},
   "source": [
    "## Dispersal Constraints"
   ]
  },
  {
   "cell_type": "code",
   "execution_count": null,
   "metadata": {},
   "outputs": [],
   "source": [
    "# Constraint 7: Own cell dispersal weight. \n",
    "def own_cell_dispersal(model, i, j, t):\n",
    "    return model.ownweight == (1-8*model.disper)*model.inf_beforetreat[i,j,t]\n",
    "\n",
    "# Constraint 8:\n",
    "def out_cell_dispersal(model):\n",
    "    return model.outweight \"\"\" Will need to finish later \"\"\""
   ]
  },
  {
   "cell_type": "markdown",
   "metadata": {},
   "source": [
    "## Infestation Constraints"
   ]
  },
  {
   "cell_type": "code",
   "execution_count": null,
   "metadata": {},
   "outputs": [],
   "source": [
    "# Constraint 10: Post dispersal population in cell (i,j)\n",
    "def postmigration_infection(model, i, j, t):\n",
    "    return model.inf_posttravel == model.ownweight[i,j,t] + model.outweight[i,j,t]\n",
    "\n",
    "# Constraint 11: infected population after cell treatment. \n",
    "def posttreatment_infection(model, i, j, t):\n",
    "    return model.inf_treated == (1 - model.lamb*model.levelone - model.rho*model.leveltwo)*model.inf_posttravel\n",
    "\n",
    "# Constraint 4: Infestation growth:\n",
    "def infest_growth(model, i, j, t): \n",
    "    return model.infb4travel[i, j, t+1] == model.susceptible[i,j,t] \\\\\n",
    "                                        * (1 / ( (model.inf_treated ** model.inf_treated) * model.alpha) ) \\\\\n",
    "                                        * (model.inf_treated ** model.inf_treated)"
   ]
  },
  {
   "cell_type": "code",
   "execution_count": null,
   "metadata": {},
   "outputs": [],
   "source": [
    "# Constraint 6: Tree inventory - constant for each cell. \n",
    "def tree_inventory(model, i, j, t):\n",
    "    return model.inventory = model.juvenilleTotal[i,j,t+1] + model.susceptible[i,j,t+1] + model.infected[i,j,t] \\\\\n",
    "                            + model.greysnag[i,j,t]\n",
    "\n",
    "# Constraint 9:\n",
    "def adding_up(model):\n",
    "    return\n",
    "\n",
    "\n"
   ]
  },
  {
   "cell_type": "code",
   "execution_count": null,
   "metadata": {},
   "outputs": [],
   "source": [
    "# A functino to try and generate random shocks - will come back to this after I finish coding the model without it. \n",
    "\n",
    "################################################################################################################\n",
    "# Random Parameter Generation for Long Range Dispersal \n",
    "# !!! NEED TO ASK IN STACK OVERFLOW !!!\n",
    "#def Randlrd_init(model,i,j):\n",
    "#    mu = []\n",
    "#    for i in range(1,3):\n",
    "#        for j in range(1,3):\n",
    "#            new_rand = random.randrange(0, 0.1, 1)\n",
    "#            mu.append(new_rand)\n",
    "#    return mu\n",
    "    \n",
    "#model.v = Param(model.Iset, model.Js, model.Ts,     # Random Long Range Dispersal Parameter\n",
    " #                   initialize=Randlrd_init, default=0)     \n",
    "################################################################################################################"
   ]
  },
  {
   "cell_type": "markdown",
   "metadata": {},
   "source": [
    "# Master List of Constraints"
   ]
  },
  {
   "cell_type": "code",
   "execution_count": null,
   "metadata": {},
   "outputs": [],
   "source": []
  }
 ],
 "metadata": {
  "kernelspec": {
   "display_name": "Python 3",
   "language": "python",
   "name": "python3"
  },
  "language_info": {
   "codemirror_mode": {
    "name": "ipython",
    "version": 3
   },
   "file_extension": ".py",
   "mimetype": "text/x-python",
   "name": "python",
   "nbconvert_exporter": "python",
   "pygments_lexer": "ipython3",
   "version": "3.6.8"
  }
 },
 "nbformat": 4,
 "nbformat_minor": 2
}
