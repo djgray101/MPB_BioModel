{
 "cells": [
  {
   "cell_type": "code",
   "execution_count": 2,
   "metadata": {},
   "outputs": [],
   "source": [
    "# Import Pyomo Modules\n",
    "\n",
    "from __future__ import division\n",
    "from pyomo.environ import *\n",
    "import random\n",
    "import numpy as np\n",
    "\n"
   ]
  },
  {
   "cell_type": "code",
   "execution_count": 3,
   "metadata": {},
   "outputs": [],
   "source": [
    "# Define an empty AbstractModel() object\n",
    "model = AbstractModel()"
   ]
  },
  {
   "cell_type": "code",
   "execution_count": 4,
   "metadata": {},
   "outputs": [],
   "source": [
    "# Define the index sets for the grid, time horizon, and age class.\n",
    "\n",
    "model.Iset = RangeSet(3) #e.g i = {1, 2, 3}\n",
    "model.Jset = RangeSet(3)\n",
    "model.Tset = RangeSet(7)\n",
    "model.Kset = RangeSet(50)"
   ]
  },
  {
   "cell_type": "code",
   "execution_count": 11,
   "metadata": {},
   "outputs": [],
   "source": [
    "# Defining all model parameters. \n",
    "# ALL PARAMETERS WILL MOST LIKELY NEED TO BE INDEXED AND SPECIFY A DEFAULT VALUE?\n",
    "\n",
    "model.juvsurv = Param()   # Juvenille Tree Survivorship Probability\n",
    "model.juvdeath = Param()  # Juvenille Tree Mortality Probability (model.juvdeath = 1 - model.juvsurv)\n",
    "model.inventory = Param() # Tree inventory that is constant for each cell - acts as carrying capacity\n",
    "model.beta = Param()      # Failure Rate of Infestation\n",
    "model.R = Param()         # Growth rate of MPB per effective tree --> 1.8 per year, not indexed by time yet. \n",
    "model.c0 = Param()        # Fitting parameter for dispersal\n",
    "model.c1 = Param()        # Fitting parameter for dispersal\n",
    "model.gamma = Param()     # Inter-Resource Competition Parameter\n",
    "model.lamb = Param()      # Effectiveness of Level 1 Control\n",
    "model.rho = Param()       # Effectivneness of Level 2 Control\n"
   ]
  },
  {
   "cell_type": "markdown",
   "metadata": {},
   "source": [
    "# Model Variables\n",
    "\n",
    "### $$ model.juvenille -->  j_{k,t}^{(i,j)}$$ \n",
    "\n",
    "### $$ model.juvenilleTotal -->  J_{t}^{(i,j)} = \\sum_{k=1}^{NJ}j_{k,t}^{(i,j)}, k = 1,2,...,NJ-1 $$\n",
    "\n",
    "### $$ model.redsnag --> I_{t-1} $$\n",
    "\n",
    "### $$ model.greysnag --> I_{t-2} $$"
   ]
  },
  {
   "cell_type": "code",
   "execution_count": null,
   "metadata": {
    "scrolled": true
   },
   "outputs": [],
   "source": [
    "# Defining all model variabeles:\n",
    "\n",
    "model.juvenille = Var(model.Iset, model.Jset, model.Tset, model.Kset,          \n",
    "                      within=NonNegativeReals, initialize='''FILL IN LATER''')\n",
    "\n",
    "def juv_total(model, i, j, t, k):\n",
    "    return sum(model.juvenille[k] for k in range(1,50))\n",
    "model.juvenilleTotal = Var(model.Iset, model.Jset, model.Tset, model.Kset,\n",
    "                           within=NonNegativeReals, initialize=juv_total)\n",
    "\n",
    "model.susceptible = Var(model.Iset, model.Jset, model.Tset,\n",
    "                       within=NonNegativeReals, initialize = '''FILL IN LATER''')\n",
    "\n",
    "model.infected = Var(model.Iset, model.Jset, model.Tset, model.Kset,\n",
    "                    within=NonNegativeReals, initialize = '''FILL IN LATER''')\n",
    "\n",
    "model.redsnag = Var(model.Iset, model.Jset, model.Tset, model.Kset,\n",
    "                   within=NonNegativeReals, initialize = '''FILL IN LATER''')\n",
    "\n",
    "model.greysnag = Var(model.Iset, model.Jset, model.Tset, model.Kset,\n",
    "                    within=NonNegativeReals, initialize = '''FILL IN LATER''')\n",
    "\n",
    "model.treeinventory = Var(model.Iset, model.Jset, model.Tset,\n",
    "                        within=NonNegativeReals, initialize = '''FILL IN LATER w/ expr?''')\n"
   ]
  },
  {
   "cell_type": "code",
   "execution_count": 13,
   "metadata": {},
   "outputs": [
    {
     "ename": "SyntaxError",
     "evalue": "invalid syntax (<ipython-input-13-25c1519ed767>, line 3)",
     "output_type": "error",
     "traceback": [
      "\u001b[1;36m  File \u001b[1;32m\"<ipython-input-13-25c1519ed767>\"\u001b[1;36m, line \u001b[1;32m3\u001b[0m\n\u001b[1;33m    return model.juvenille[i,j,t+1,k+1] = model.juvenille[i,l,t,k]*model.juvsurv\u001b[0m\n\u001b[1;37m                                        ^\u001b[0m\n\u001b[1;31mSyntaxError\u001b[0m\u001b[1;31m:\u001b[0m invalid syntax\n"
     ]
    }
   ],
   "source": [
    "# Constraint 1: juvenilles that advance to the next age class (eq. 1)\n",
    "def juv_advance(model, i, j, t, k):\n",
    "    return model.juvenille[i,j,t+1,k+1] == model.juvenille[i,j,t,k]*model.juvsurv\n",
    "\n",
    "# Constraint 2: total number of juvenilles in all age classes on cell (i,j)\n",
    "def juv_total_sum(model, i, j, t, k):\n",
    "    return \"\"\" This constraint is actually a variable declaration \"\"\"\n",
    "\n",
    "# Constraint 3: recruitment of seedlings to the first juvenille age class. \n",
    "def juv_recruit(model, i, j, t, k): \"\"\" Not sure how you would specify the I_t-2 var, will come back to this \"\"\"\n",
    "    return model.juvenille[i,j,t,1] == model.juvdeath*model.juvenilleTotal + model.greysnag\n",
    "    \n",
    "# Constraint 4: Infected growth rate - Leaving it as linear for now, will include exponential later when debugging.\n",
    "def premigration_infectedgrowth(model, i, j, t):\n",
    "    return model.infected[i,j,t+1] = model.R * model.infected[i,j,t]\n",
    "\n",
    "# Constraint 5: Susceptible recruitment \n",
    "def susceptible_advance(model, i, j, t, k):\n",
    "    return model.susceptible[i,j,t+1] == model.susceptible[i,j,t] - model.infected[i,j,t] \\\\\n",
    "            + model.juvsurv*model.juvenille[i,j,t,k==50]\n",
    "\n",
    "# Constraint 6: Tree inventory - constant for each cell. \n",
    "def tree_inventory(model, i, j, t):\n",
    "    return model.inventory = model.juvenilleTotal[i,j,t+1] + model.susceptible[i,j,t+1] + model.infected[i,j,t] \\\\\n",
    "                            + model.greysnag[i,j,t]\n",
    "\n",
    "# Constraint 7: Own cell dispersal weight. \n",
    "def own_cell_dispersal(model):\n",
    "    return\n",
    "\n",
    "# Constraint 8:\n",
    "def out_cell_dispersal(model):\n",
    "    return\n",
    "\n",
    "# Constraint 9:\n",
    "def adding_up(model):\n",
    "    return\n",
    "\n",
    "# Constraint 10: \n",
    "def postmigration_infection(model):\n",
    "    return\n",
    "\n",
    "# Constraint 11:\n",
    "def posttreatment_infection(model):\n",
    "    return\n",
    "\n"
   ]
  },
  {
   "cell_type": "code",
   "execution_count": null,
   "metadata": {},
   "outputs": [],
   "source": [
    "################################################################################################################\n",
    "# Random Parameter Generation for Long Range Dispersal \n",
    "# !!! NEED TO ASK IN STACK OVERFLOW !!!\n",
    "#def Randlrd_init(model,i,j):\n",
    "#    mu = []\n",
    "#    for i in range(1,3):\n",
    "#        for j in range(1,3):\n",
    "#            new_rand = random.randrange(0, 0.1, 1)\n",
    "#            mu.append(new_rand)\n",
    "#    return mu\n",
    "    \n",
    "#model.v = Param(model.Iset, model.Js, model.Ts,     # Random Long Range Dispersal Parameter\n",
    " #                   initialize=Randlrd_init, default=0)     \n",
    "################################################################################################################"
   ]
  }
 ],
 "metadata": {
  "kernelspec": {
   "display_name": "Python 3",
   "language": "python",
   "name": "python3"
  },
  "language_info": {
   "codemirror_mode": {
    "name": "ipython",
    "version": 3
   },
   "file_extension": ".py",
   "mimetype": "text/x-python",
   "name": "python",
   "nbconvert_exporter": "python",
   "pygments_lexer": "ipython3",
   "version": "3.6.8"
  }
 },
 "nbformat": 4,
 "nbformat_minor": 2
}
