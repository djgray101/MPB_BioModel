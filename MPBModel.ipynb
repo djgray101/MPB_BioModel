{
 "cells": [
  {
   "cell_type": "code",
   "execution_count": 81,
   "metadata": {},
   "outputs": [],
   "source": [
    "# Import Pyomo Modules\n",
    "\n",
    "from __future__ import division\n",
    "from pyomo.environ import *\n",
    "import random\n",
    "import numpy as np"
   ]
  },
  {
   "cell_type": "code",
   "execution_count": 82,
   "metadata": {},
   "outputs": [],
   "source": [
    "# Define an empty AbstractModel() object\n",
    "model = AbstractModel()\n"
   ]
  },
  {
   "cell_type": "code",
   "execution_count": 79,
   "metadata": {},
   "outputs": [
    {
     "name": "stdout",
     "output_type": "stream",
     "text": [
      "WARNING: Implicitly replacing the Component attribute Imax (type=<class\n",
      "    'pyomo.core.base.param.SimpleParam'>) on block unknown with a new\n",
      "    Component (type=<class 'pyomo.core.base.param.SimpleParam'>). This is\n",
      "    usually indicative of a modelling error. To avoid this warning, use\n",
      "    block.del_component() and block.add_component().\n",
      "WARNING: Implicitly replacing the Component attribute Jmax (type=<class\n",
      "    'pyomo.core.base.param.SimpleParam'>) on block unknown with a new\n",
      "    Component (type=<class 'pyomo.core.base.param.SimpleParam'>). This is\n",
      "    usually indicative of a modelling error. To avoid this warning, use\n",
      "    block.del_component() and block.add_component().\n",
      "WARNING: Implicitly replacing the Component attribute Tmax (type=<class\n",
      "    'pyomo.core.base.param.SimpleParam'>) on block unknown with a new\n",
      "    Component (type=<class 'pyomo.core.base.param.SimpleParam'>). This is\n",
      "    usually indicative of a modelling error. To avoid this warning, use\n",
      "    block.del_component() and block.add_component().\n",
      "WARNING: Implicitly replacing the Component attribute Iset (type=<class\n",
      "    'pyomo.core.base.rangeset.RangeSet'>) on block unknown with a new\n",
      "    Component (type=<class 'pyomo.core.base.rangeset.RangeSet'>). This is\n",
      "    usually indicative of a modelling error. To avoid this warning, use\n",
      "    block.del_component() and block.add_component().\n",
      "WARNING: Implicitly replacing the Component attribute Jset (type=<class\n",
      "    'pyomo.core.base.rangeset.RangeSet'>) on block unknown with a new\n",
      "    Component (type=<class 'pyomo.core.base.rangeset.RangeSet'>). This is\n",
      "    usually indicative of a modelling error. To avoid this warning, use\n",
      "    block.del_component() and block.add_component().\n",
      "WARNING: Implicitly replacing the Component attribute Tset (type=<class\n",
      "    'pyomo.core.base.rangeset.RangeSet'>) on block unknown with a new\n",
      "    Component (type=<class 'pyomo.core.base.rangeset.RangeSet'>). This is\n",
      "    usually indicative of a modelling error. To avoid this warning, use\n",
      "    block.del_component() and block.add_component().\n"
     ]
    }
   ],
   "source": [
    "# Define the index sets for the grid and time horizons. \n",
    "\n",
    "# Defining the maximum value that the index can take. e.g. j = {1, 2, 3, ... , model.Jmax}\n",
    "model.Imax = Param(within=NonNegativeIntegers) # Value = 10\n",
    "model.Jmax = Param(within=NonNegativeIntegers) # Value = 10\n",
    "model.Tmax = Param(within=NonNegativeIntegers) # Value = 7\n",
    "model.Kmax = Param(within=NonNegativeIntegers) # Value = 50 \n",
    "\n",
    "# Constructing the actual indicies used for the problem.\n",
    "model.Iset = RangeSet(1, model.Imax) #e.g i = {1, 2, 3, ... , model.Imax=10}\n",
    "model.Jset = RangeSet(1, model.Jmax)\n",
    "model.Tset = RangeSet(1, model.Tmax)\n",
    "model.Kset = RangeSet(1, model.Kmax - 1)"
   ]
  },
  {
   "cell_type": "code",
   "execution_count": 75,
   "metadata": {},
   "outputs": [],
   "source": [
    "# Defining all model parameters. \n",
    "# ALL PARAMETERS WILL MOST LIKELY NEED TO BE INDEXED AND SPECIFY A DEFAULT VALUE?\n",
    "\n",
    "model.juvsurv = Param()   # Juvenille Tree Survivorship Probability\n",
    "model.juvdeath = Param()  # Juvenille Tree Mortality Probability (model.juvdeath = 1 - model.juvsurv)\n",
    "model.beta = Param()      # Failure Rate of Infestation\n",
    "model.R = Param()         # Growth rate of MPB per effective tree --> 1.8 per year, not indexed by time yet. \n",
    "model.c0 = Param()        # Fitting parameter for dispersal\n",
    "model.c1 = Param()        # Fitting parameter for dispersal\n",
    "model.gamma = Param()     # Inter-Resource Competition Parameter\n",
    "model.lambda = Param()    # Effectiveness of Level 1 Control\n",
    "model.rho = Param()       # Effectivneness of Level 2 Control\n",
    "\n",
    "# Initialization Values\n",
    "model.juvenille_tzero = Param()\n",
    "\n",
    "################################################################################################################\n",
    "# Random Parameter Generation for Long Range Dispersal \n",
    "# !!! NEED TO ASK IN STACK OVERFLOW !!!\n",
    "def Randlrd_init(model,i,j):\n",
    "    mu = []\n",
    "    for i in range(1,4):\n",
    "        for j in range(1,4):\n",
    "            new_rand = random.randrange(0, 0.1, 1)\n",
    "            mu.append(new_rand)\n",
    "    return mu\n",
    "    \n",
    "model.v = Param(model.Iset, model.Jset, model.Tset,     # Random Long Range Dispersal Parameter\n",
    "                    initialize=Randlrd_init, default=0)     \n",
    "################################################################################################################"
   ]
  },
  {
   "cell_type": "code",
   "execution_count": 76,
   "metadata": {},
   "outputs": [],
   "source": [
    "# Declaring all the variables:\n",
    "\n",
    "model.juvenille = Var(model.Iset, model.Jset, model.Tset, model.Kset,           \n",
    "                      within=NonNegativeReals, initialize=model.juvenille_tzero)\n",
    "\n",
    "# Want to sum all of the juvenille age classes up to NJ with respect to each index and initialize \n",
    "# model.juvenille_sum by using the expression that generates its value. \n",
    "def juv_total(model):\n",
    "    return sum(model.juvenille[k] for k in range(1, model.Kmax - 1))\n",
    "model.juvenille_sum = Var(model.Iset, model.Jset, model.Tset,\n",
    "                         within=NonNegativeReals, initialize=juv_total)\n",
    "\n"
   ]
  },
  {
   "cell_type": "code",
   "execution_count": null,
   "metadata": {},
   "outputs": [],
   "source": [
    "# Declaring the constraints. \n",
    "\n",
    "# Constraint 1: juvenilles that advance to the next age class (eq. 1)\n",
    "def juv_advance(model):\n",
    "    return model.juvenille[model.Tset + 1, model.Kset + 1] = model.juvenille[model.Tset, model.Kset]*model.juvsurv\n",
    "\n",
    "# Constraint 2: \n",
    "\n",
    "# Constraint 3: recruitment of seedlings to the first juvenille age class. \n",
    "def juv_recruit(model):\n",
    "    return \n",
    "    \n",
    "# Constraint 4: "
   ]
  },
  {
   "cell_type": "code",
   "execution_count": 80,
   "metadata": {},
   "outputs": [
    {
     "ename": "SyntaxError",
     "evalue": "invalid syntax (<ipython-input-80-933d67382da9>, line 1)",
     "output_type": "error",
     "traceback": [
      "\u001b[1;36m  File \u001b[1;32m\"<ipython-input-80-933d67382da9>\"\u001b[1;36m, line \u001b[1;32m1\u001b[0m\n\u001b[1;33m    pyomo help --solvers\u001b[0m\n\u001b[1;37m             ^\u001b[0m\n\u001b[1;31mSyntaxError\u001b[0m\u001b[1;31m:\u001b[0m invalid syntax\n"
     ]
    }
   ],
   "source": [
    "pyomo help --solvers"
   ]
  }
 ],
 "metadata": {
  "kernelspec": {
   "display_name": "Python 3",
   "language": "python",
   "name": "python3"
  },
  "language_info": {
   "codemirror_mode": {
    "name": "ipython",
    "version": 3
   },
   "file_extension": ".py",
   "mimetype": "text/x-python",
   "name": "python",
   "nbconvert_exporter": "python",
   "pygments_lexer": "ipython3",
   "version": "3.6.8"
  }
 },
 "nbformat": 4,
 "nbformat_minor": 2
}
